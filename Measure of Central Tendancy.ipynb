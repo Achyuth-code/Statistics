{
 "cells": [
  {
   "cell_type": "code",
   "execution_count": 1,
   "id": "2cfbd069-42c0-4fcc-a6ce-76130bd7fad2",
   "metadata": {},
   "outputs": [],
   "source": [
    "import pandas as pd\n",
    "import numpy as np\n",
    "import seaborn as sns\n",
    "import statistics"
   ]
  },
  {
   "cell_type": "code",
   "execution_count": 2,
   "id": "911f6edb-7287-43a6-9fd6-2f55544ebacc",
   "metadata": {},
   "outputs": [],
   "source": [
    "data =  [1, 2, 3, 4, 4, 4, 4, 5, 6, 7, 7, 7, 8]"
   ]
  },
  {
   "cell_type": "code",
   "execution_count": 3,
   "id": "3b55f337-8f96-4bd9-87c7-2018448b673f",
   "metadata": {},
   "outputs": [
    {
     "data": {
      "text/plain": [
       "4.769230769230769"
      ]
     },
     "execution_count": 3,
     "metadata": {},
     "output_type": "execute_result"
    }
   ],
   "source": [
    "statistics.mean(data)"
   ]
  },
  {
   "cell_type": "code",
   "execution_count": 4,
   "id": "6d66ce96-dcb4-4eef-b678-d5b881eef8f6",
   "metadata": {},
   "outputs": [],
   "source": [
    "df = sns.load_dataset(\"mpg\")"
   ]
  },
  {
   "cell_type": "code",
   "execution_count": 7,
   "id": "7a84f5a1-d830-4d15-a19f-3e3e958c438a",
   "metadata": {},
   "outputs": [
    {
     "data": {
      "text/html": [
       "<div>\n",
       "<style scoped>\n",
       "    .dataframe tbody tr th:only-of-type {\n",
       "        vertical-align: middle;\n",
       "    }\n",
       "\n",
       "    .dataframe tbody tr th {\n",
       "        vertical-align: top;\n",
       "    }\n",
       "\n",
       "    .dataframe thead th {\n",
       "        text-align: right;\n",
       "    }\n",
       "</style>\n",
       "<table border=\"1\" class=\"dataframe\">\n",
       "  <thead>\n",
       "    <tr style=\"text-align: right;\">\n",
       "      <th></th>\n",
       "      <th>mpg</th>\n",
       "      <th>cylinders</th>\n",
       "      <th>displacement</th>\n",
       "      <th>horsepower</th>\n",
       "      <th>weight</th>\n",
       "      <th>acceleration</th>\n",
       "      <th>model_year</th>\n",
       "      <th>origin</th>\n",
       "      <th>name</th>\n",
       "    </tr>\n",
       "  </thead>\n",
       "  <tbody>\n",
       "    <tr>\n",
       "      <th>0</th>\n",
       "      <td>18.0</td>\n",
       "      <td>8</td>\n",
       "      <td>307.0</td>\n",
       "      <td>130.0</td>\n",
       "      <td>3504</td>\n",
       "      <td>12.0</td>\n",
       "      <td>70</td>\n",
       "      <td>usa</td>\n",
       "      <td>chevrolet chevelle malibu</td>\n",
       "    </tr>\n",
       "    <tr>\n",
       "      <th>1</th>\n",
       "      <td>15.0</td>\n",
       "      <td>8</td>\n",
       "      <td>350.0</td>\n",
       "      <td>165.0</td>\n",
       "      <td>3693</td>\n",
       "      <td>11.5</td>\n",
       "      <td>70</td>\n",
       "      <td>usa</td>\n",
       "      <td>buick skylark 320</td>\n",
       "    </tr>\n",
       "  </tbody>\n",
       "</table>\n",
       "</div>"
      ],
      "text/plain": [
       "    mpg  cylinders  displacement  horsepower  weight  acceleration  \\\n",
       "0  18.0          8         307.0       130.0    3504          12.0   \n",
       "1  15.0          8         350.0       165.0    3693          11.5   \n",
       "\n",
       "   model_year origin                       name  \n",
       "0          70    usa  chevrolet chevelle malibu  \n",
       "1          70    usa          buick skylark 320  "
      ]
     },
     "execution_count": 7,
     "metadata": {},
     "output_type": "execute_result"
    }
   ],
   "source": [
    "df.head(2)"
   ]
  },
  {
   "cell_type": "code",
   "execution_count": 8,
   "id": "e110f2c0-2ca6-4a73-a01d-728a62bd412b",
   "metadata": {},
   "outputs": [
    {
     "data": {
      "text/plain": [
       "2970.424623115578"
      ]
     },
     "execution_count": 8,
     "metadata": {},
     "output_type": "execute_result"
    }
   ],
   "source": [
    "df[\"weight\"].mean()"
   ]
  },
  {
   "cell_type": "code",
   "execution_count": 9,
   "id": "c567d674-c9fa-49da-9164-baa64116b226",
   "metadata": {},
   "outputs": [
    {
     "data": {
      "text/plain": [
       "15.568090452261307"
      ]
     },
     "execution_count": 9,
     "metadata": {},
     "output_type": "execute_result"
    }
   ],
   "source": [
    "df[\"acceleration\"].mean()"
   ]
  },
  {
   "cell_type": "markdown",
   "id": "f479b347-a75a-4838-b704-56120bf98fc2",
   "metadata": {},
   "source": [
    "Median"
   ]
  },
  {
   "cell_type": "code",
   "execution_count": 16,
   "id": "2178628b-5fac-45fa-98a0-035ac091d886",
   "metadata": {},
   "outputs": [
    {
     "data": {
      "text/plain": [
       "[1, 2, 3, 4, 4, 4, 4, 5, 6, 7, 7, 7, 8]"
      ]
     },
     "execution_count": 16,
     "metadata": {},
     "output_type": "execute_result"
    }
   ],
   "source": [
    "data"
   ]
  },
  {
   "cell_type": "code",
   "execution_count": 17,
   "id": "fa270de3-8ef0-4621-a889-e534010f6911",
   "metadata": {},
   "outputs": [
    {
     "data": {
      "text/plain": [
       "4"
      ]
     },
     "execution_count": 17,
     "metadata": {},
     "output_type": "execute_result"
    }
   ],
   "source": [
    "statistics.median(data)"
   ]
  },
  {
   "cell_type": "code",
   "execution_count": 18,
   "id": "c7486375-8efe-47e5-92ef-9547ea08ec73",
   "metadata": {},
   "outputs": [
    {
     "data": {
      "text/plain": [
       "2803.5"
      ]
     },
     "execution_count": 18,
     "metadata": {},
     "output_type": "execute_result"
    }
   ],
   "source": [
    "df[\"weight\"].median()"
   ]
  },
  {
   "cell_type": "code",
   "execution_count": 19,
   "id": "8a403211-bc52-46ef-aa6c-2e5790deb0e5",
   "metadata": {},
   "outputs": [
    {
     "data": {
      "text/plain": [
       "93.5"
      ]
     },
     "execution_count": 19,
     "metadata": {},
     "output_type": "execute_result"
    }
   ],
   "source": [
    "df[\"horsepower\"].median()"
   ]
  },
  {
   "cell_type": "code",
   "execution_count": 21,
   "id": "6b0a6aac-1e6c-4733-8216-74ecb00a9d8e",
   "metadata": {},
   "outputs": [
    {
     "ename": "TypeError",
     "evalue": "Cannot convert [['usa' 'usa' 'usa' 'usa' 'usa' 'usa' 'usa' 'usa' 'usa' 'usa' 'usa' 'usa'\n  'usa' 'usa' 'japan' 'usa' 'usa' 'usa' 'japan' 'europe' 'europe'\n  'europe' 'europe' 'europe' 'usa' 'usa' 'usa' 'usa' 'usa' 'japan' 'usa'\n  'japan' 'usa' 'usa' 'usa' 'usa' 'usa' 'usa' 'usa' 'usa' 'usa' 'usa'\n  'usa' 'usa' 'usa' 'usa' 'usa' 'usa' 'usa' 'usa' 'europe' 'europe'\n  'europe' 'japan' 'japan' 'europe' 'usa' 'japan' 'usa' 'europe' 'usa'\n  'usa' 'usa' 'usa' 'usa' 'usa' 'usa' 'usa' 'usa' 'usa' 'usa' 'japan'\n  'usa' 'usa' 'usa' 'usa' 'europe' 'europe' 'europe' 'europe' 'usa'\n  'japan' 'japan' 'usa' 'japan' 'usa' 'usa' 'usa' 'usa' 'usa' 'usa' 'usa'\n  'usa' 'usa' 'usa' 'usa' 'usa' 'usa' 'usa' 'usa' 'usa' 'usa' 'europe'\n  'usa' 'usa' 'usa' 'usa' 'usa' 'japan' 'usa' 'japan' 'japan' 'usa' 'usa'\n  'europe' 'usa' 'usa' 'europe' 'europe' 'europe' 'europe' 'usa' 'europe'\n  'japan' 'usa' 'usa' 'usa' 'usa' 'usa' 'japan' 'usa' 'japan' 'usa' 'usa'\n  'usa' 'usa' 'usa' 'usa' 'usa' 'usa' 'usa' 'europe' 'europe' 'europe'\n  'japan' 'japan' 'usa' 'europe' 'europe' 'japan' 'japan' 'europe' 'usa'\n  'usa' 'usa' 'usa' 'usa' 'usa' 'usa' 'usa' 'usa' 'usa' 'usa' 'usa' 'usa'\n  'usa' 'usa' 'japan' 'usa' 'usa' 'usa' 'japan' 'europe' 'japan' 'usa'\n  'europe' 'usa' 'europe' 'europe' 'europe' 'europe' 'japan' 'europe'\n  'europe' 'usa' 'usa' 'europe' 'usa' 'usa' 'usa' 'usa' 'usa' 'usa' 'usa'\n  'usa' 'usa' 'usa' 'europe' 'japan' 'usa' 'usa' 'usa' 'usa' 'europe'\n  'japan' 'japan' 'usa' 'europe' 'usa' 'europe' 'japan' 'europe' 'usa'\n  'usa' 'usa' 'usa' 'japan' 'usa' 'europe' 'usa' 'japan' 'usa' 'usa'\n  'usa' 'usa' 'usa' 'usa' 'usa' 'usa' 'usa' 'usa' 'usa' 'usa' 'europe'\n  'usa' 'japan' 'usa' 'usa' 'usa' 'japan' 'europe' 'japan' 'europe'\n  'japan' 'europe' 'usa' 'japan' 'japan' 'japan' 'usa' 'usa' 'usa' 'usa'\n  'usa' 'usa' 'usa' 'usa' 'usa' 'usa' 'usa' 'usa' 'usa' 'usa' 'usa' 'usa'\n  'usa' 'usa' 'japan' 'japan' 'usa' 'japan' 'usa' 'usa' 'japan' 'europe'\n  'europe' 'europe' 'europe' 'europe' 'japan' 'usa' 'usa' 'usa' 'usa'\n  'usa' 'usa' 'usa' 'usa' 'usa' 'usa' 'usa' 'usa' 'usa' 'europe' 'japan'\n  'usa' 'usa' 'europe' 'usa' 'europe' 'usa' 'usa' 'usa' 'japan' 'europe'\n  'usa' 'usa' 'usa' 'usa' 'europe' 'japan' 'usa' 'japan' 'usa' 'usa'\n  'usa' 'usa' 'europe' 'japan' 'japan' 'japan' 'japan' 'japan' 'usa'\n  'japan' 'europe' 'europe' 'europe' 'europe' 'japan' 'europe' 'japan'\n  'europe' 'japan' 'japan' 'europe' 'usa' 'japan' 'usa' 'usa' 'usa' 'usa'\n  'usa' 'japan' 'usa' 'japan' 'japan' 'japan' 'japan' 'japan' 'usa' 'usa'\n  'usa' 'europe' 'europe' 'japan' 'japan' 'japan' 'japan' 'europe'\n  'europe' 'japan' 'japan' 'usa' 'usa' 'usa' 'usa' 'usa' 'usa' 'usa'\n  'usa' 'usa' 'usa' 'usa' 'usa' 'europe' 'japan' 'japan' 'usa' 'usa'\n  'japan' 'japan' 'japan' 'japan' 'japan' 'japan' 'usa' 'usa' 'usa' 'usa'\n  'japan' 'usa' 'usa' 'usa' 'europe' 'usa' 'usa' 'usa']\n ['chevrolet chevelle malibu' 'buick skylark 320' 'plymouth satellite'\n  'amc rebel sst' 'ford torino' 'ford galaxie 500' 'chevrolet impala'\n  'plymouth fury iii' 'pontiac catalina' 'amc ambassador dpl'\n  'dodge challenger se' \"plymouth 'cuda 340\" 'chevrolet monte carlo'\n  'buick estate wagon (sw)' 'toyota corona mark ii' 'plymouth duster'\n  'amc hornet' 'ford maverick' 'datsun pl510'\n  'volkswagen 1131 deluxe sedan' 'peugeot 504' 'audi 100 ls' 'saab 99e'\n  'bmw 2002' 'amc gremlin' 'ford f250' 'chevy c20' 'dodge d200'\n  'hi 1200d' 'datsun pl510' 'chevrolet vega 2300' 'toyota corona'\n  'ford pinto' 'amc gremlin' 'plymouth satellite custom'\n  'chevrolet chevelle malibu' 'ford torino 500' 'amc matador'\n  'chevrolet impala' 'pontiac catalina brougham' 'ford galaxie 500'\n  'plymouth fury iii' 'dodge monaco (sw)' 'ford country squire (sw)'\n  'pontiac safari (sw)' 'amc hornet sportabout (sw)'\n  'chevrolet vega (sw)' 'pontiac firebird' 'ford mustang'\n  'mercury capri 2000' 'opel 1900' 'peugeot 304' 'fiat 124b'\n  'toyota corolla 1200' 'datsun 1200' 'volkswagen model 111'\n  'plymouth cricket' 'toyota corona hardtop' 'dodge colt hardtop'\n  'volkswagen type 3' 'chevrolet vega' 'ford pinto runabout'\n  'chevrolet impala' 'pontiac catalina' 'plymouth fury iii'\n  'ford galaxie 500' 'amc ambassador sst' 'mercury marquis'\n  'buick lesabre custom' 'oldsmobile delta 88 royale'\n  'chrysler newport royal' 'mazda rx2 coupe' 'amc matador (sw)'\n  'chevrolet chevelle concours (sw)' 'ford gran torino (sw)'\n  'plymouth satellite custom (sw)' 'volvo 145e (sw)'\n  'volkswagen 411 (sw)' 'peugeot 504 (sw)' 'renault 12 (sw)'\n  'ford pinto (sw)' 'datsun 510 (sw)' 'toyouta corona mark ii (sw)'\n  'dodge colt (sw)' 'toyota corolla 1600 (sw)' 'buick century 350'\n  'amc matador' 'chevrolet malibu' 'ford gran torino'\n  'dodge coronet custom' 'mercury marquis brougham'\n  'chevrolet caprice classic' 'ford ltd' 'plymouth fury gran sedan'\n  'chrysler new yorker brougham' 'buick electra 225 custom'\n  'amc ambassador brougham' 'plymouth valiant' 'chevrolet nova custom'\n  'amc hornet' 'ford maverick' 'plymouth duster'\n  'volkswagen super beetle' 'chevrolet impala' 'ford country'\n  'plymouth custom suburb' 'oldsmobile vista cruiser' 'amc gremlin'\n  'toyota carina' 'chevrolet vega' 'datsun 610' 'maxda rx3' 'ford pinto'\n  'mercury capri v6' 'fiat 124 sport coupe' 'chevrolet monte carlo s'\n  'pontiac grand prix' 'fiat 128' 'opel manta' 'audi 100ls' 'volvo 144ea'\n  'dodge dart custom' 'saab 99le' 'toyota mark ii' 'oldsmobile omega'\n  'plymouth duster' 'ford maverick' 'amc hornet' 'chevrolet nova'\n  'datsun b210' 'ford pinto' 'toyota corolla 1200' 'chevrolet vega'\n  'chevrolet chevelle malibu classic' 'amc matador'\n  'plymouth satellite sebring' 'ford gran torino'\n  'buick century luxus (sw)' 'dodge coronet custom (sw)'\n  'ford gran torino (sw)' 'amc matador (sw)' 'audi fox'\n  'volkswagen dasher' 'opel manta' 'toyota corona' 'datsun 710'\n  'dodge colt' 'fiat 128' 'fiat 124 tc' 'honda civic' 'subaru'\n  'fiat x1.9' 'plymouth valiant custom' 'chevrolet nova'\n  'mercury monarch' 'ford maverick' 'pontiac catalina'\n  'chevrolet bel air' 'plymouth grand fury' 'ford ltd' 'buick century'\n  'chevroelt chevelle malibu' 'amc matador' 'plymouth fury'\n  'buick skyhawk' 'chevrolet monza 2+2' 'ford mustang ii'\n  'toyota corolla' 'ford pinto' 'amc gremlin' 'pontiac astro'\n  'toyota corona' 'volkswagen dasher' 'datsun 710' 'ford pinto'\n  'volkswagen rabbit' 'amc pacer' 'audi 100ls' 'peugeot 504'\n  'volvo 244dl' 'saab 99le' 'honda civic cvcc' 'fiat 131' 'opel 1900'\n  'capri ii' 'dodge colt' 'renault 12tl'\n  'chevrolet chevelle malibu classic' 'dodge coronet brougham'\n  'amc matador' 'ford gran torino' 'plymouth valiant' 'chevrolet nova'\n  'ford maverick' 'amc hornet' 'chevrolet chevette' 'chevrolet woody'\n  'vw rabbit' 'honda civic' 'dodge aspen se' 'ford granada ghia'\n  'pontiac ventura sj' 'amc pacer d/l' 'volkswagen rabbit' 'datsun b-210'\n  'toyota corolla' 'ford pinto' 'volvo 245' 'plymouth volare premier v8'\n  'peugeot 504' 'toyota mark ii' 'mercedes-benz 280s' 'cadillac seville'\n  'chevy c10' 'ford f108' 'dodge d100' 'honda accord cvcc'\n  'buick opel isuzu deluxe' 'renault 5 gtl' 'plymouth arrow gs'\n  'datsun f-10 hatchback' 'chevrolet caprice classic'\n  'oldsmobile cutlass supreme' 'dodge monaco brougham'\n  'mercury cougar brougham' 'chevrolet concours' 'buick skylark'\n  'plymouth volare custom' 'ford granada' 'pontiac grand prix lj'\n  'chevrolet monte carlo landau' 'chrysler cordoba' 'ford thunderbird'\n  'volkswagen rabbit custom' 'pontiac sunbird coupe'\n  'toyota corolla liftback' 'ford mustang ii 2+2' 'chevrolet chevette'\n  'dodge colt m/m' 'subaru dl' 'volkswagen dasher' 'datsun 810'\n  'bmw 320i' 'mazda rx-4' 'volkswagen rabbit custom diesel' 'ford fiesta'\n  'mazda glc deluxe' 'datsun b210 gx' 'honda civic cvcc'\n  'oldsmobile cutlass salon brougham' 'dodge diplomat'\n  'mercury monarch ghia' 'pontiac phoenix lj' 'chevrolet malibu'\n  'ford fairmont (auto)' 'ford fairmont (man)' 'plymouth volare'\n  'amc concord' 'buick century special' 'mercury zephyr' 'dodge aspen'\n  'amc concord d/l' 'chevrolet monte carlo landau'\n  'buick regal sport coupe (turbo)' 'ford futura' 'dodge magnum xe'\n  'chevrolet chevette' 'toyota corona' 'datsun 510' 'dodge omni'\n  'toyota celica gt liftback' 'plymouth sapporo' 'oldsmobile starfire sx'\n  'datsun 200-sx' 'audi 5000' 'volvo 264gl' 'saab 99gle' 'peugeot 604sl'\n  'volkswagen scirocco' 'honda accord lx' 'pontiac lemans v6'\n  'mercury zephyr 6' 'ford fairmont 4' 'amc concord dl 6' 'dodge aspen 6'\n  'chevrolet caprice classic' 'ford ltd landau' 'mercury grand marquis'\n  'dodge st. regis' 'buick estate wagon (sw)' 'ford country squire (sw)'\n  'chevrolet malibu classic (sw)' 'chrysler lebaron town @ country (sw)'\n  'vw rabbit custom' 'maxda glc deluxe' 'dodge colt hatchback custom'\n  'amc spirit dl' 'mercedes benz 300d' 'cadillac eldorado' 'peugeot 504'\n  'oldsmobile cutlass salon brougham' 'plymouth horizon'\n  'plymouth horizon tc3' 'datsun 210' 'fiat strada custom'\n  'buick skylark limited' 'chevrolet citation'\n  'oldsmobile omega brougham' 'pontiac phoenix' 'vw rabbit'\n  'toyota corolla tercel' 'chevrolet chevette' 'datsun 310'\n  'chevrolet citation' 'ford fairmont' 'amc concord' 'dodge aspen'\n  'audi 4000' 'toyota corona liftback' 'mazda 626' 'datsun 510 hatchback'\n  'toyota corolla' 'mazda glc' 'dodge colt' 'datsun 210'\n  'vw rabbit c (diesel)' 'vw dasher (diesel)' 'audi 5000s (diesel)'\n  'mercedes-benz 240d' 'honda civic 1500 gl' 'renault lecar deluxe'\n  'subaru dl' 'vokswagen rabbit' 'datsun 280-zx' 'mazda rx-7 gs'\n  'triumph tr7 coupe' 'ford mustang cobra' 'honda accord'\n  'plymouth reliant' 'buick skylark' 'dodge aries wagon (sw)'\n  'chevrolet citation' 'plymouth reliant' 'toyota starlet'\n  'plymouth champ' 'honda civic 1300' 'subaru' 'datsun 210 mpg'\n  'toyota tercel' 'mazda glc 4' 'plymouth horizon 4' 'ford escort 4w'\n  'ford escort 2h' 'volkswagen jetta' 'renault 18i' 'honda prelude'\n  'toyota corolla' 'datsun 200sx' 'mazda 626' 'peugeot 505s turbo diesel'\n  'volvo diesel' 'toyota cressida' 'datsun 810 maxima' 'buick century'\n  'oldsmobile cutlass ls' 'ford granada gl' 'chrysler lebaron salon'\n  'chevrolet cavalier' 'chevrolet cavalier wagon'\n  'chevrolet cavalier 2-door' 'pontiac j2000 se hatchback'\n  'dodge aries se' 'pontiac phoenix' 'ford fairmont futura'\n  'amc concord dl' 'volkswagen rabbit l' 'mazda glc custom l'\n  'mazda glc custom' 'plymouth horizon miser' 'mercury lynx l'\n  'nissan stanza xe' 'honda accord' 'toyota corolla' 'honda civic'\n  'honda civic (auto)' 'datsun 310 gx' 'buick century limited'\n  'oldsmobile cutlass ciera (diesel)' 'chrysler lebaron medallion'\n  'ford granada l' 'toyota celica gt' 'dodge charger 2.2'\n  'chevrolet camaro' 'ford mustang gl' 'vw pickup' 'dodge rampage'\n  'ford ranger' 'chevy s-10']] to numeric",
     "output_type": "error",
     "traceback": [
      "\u001b[1;31m---------------------------------------------------------------------------\u001b[0m",
      "\u001b[1;31mTypeError\u001b[0m                                 Traceback (most recent call last)",
      "Cell \u001b[1;32mIn[21], line 1\u001b[0m\n\u001b[1;32m----> 1\u001b[0m df\u001b[38;5;241m.\u001b[39mmedian()\n",
      "File \u001b[1;32m~\\anaconda3\\Lib\\site-packages\\pandas\\core\\frame.py:11348\u001b[0m, in \u001b[0;36mDataFrame.median\u001b[1;34m(self, axis, skipna, numeric_only, **kwargs)\u001b[0m\n\u001b[0;32m  11340\u001b[0m \u001b[38;5;129m@doc\u001b[39m(make_doc(\u001b[38;5;124m\"\u001b[39m\u001b[38;5;124mmedian\u001b[39m\u001b[38;5;124m\"\u001b[39m, ndim\u001b[38;5;241m=\u001b[39m\u001b[38;5;241m2\u001b[39m))\n\u001b[0;32m  11341\u001b[0m \u001b[38;5;28;01mdef\u001b[39;00m \u001b[38;5;21mmedian\u001b[39m(\n\u001b[0;32m  11342\u001b[0m     \u001b[38;5;28mself\u001b[39m,\n\u001b[1;32m   (...)\u001b[0m\n\u001b[0;32m  11346\u001b[0m     \u001b[38;5;241m*\u001b[39m\u001b[38;5;241m*\u001b[39mkwargs,\n\u001b[0;32m  11347\u001b[0m ):\n\u001b[1;32m> 11348\u001b[0m     result \u001b[38;5;241m=\u001b[39m \u001b[38;5;28msuper\u001b[39m()\u001b[38;5;241m.\u001b[39mmedian(axis, skipna, numeric_only, \u001b[38;5;241m*\u001b[39m\u001b[38;5;241m*\u001b[39mkwargs)\n\u001b[0;32m  11349\u001b[0m     \u001b[38;5;28;01mif\u001b[39;00m \u001b[38;5;28misinstance\u001b[39m(result, Series):\n\u001b[0;32m  11350\u001b[0m         result \u001b[38;5;241m=\u001b[39m result\u001b[38;5;241m.\u001b[39m__finalize__(\u001b[38;5;28mself\u001b[39m, method\u001b[38;5;241m=\u001b[39m\u001b[38;5;124m\"\u001b[39m\u001b[38;5;124mmedian\u001b[39m\u001b[38;5;124m\"\u001b[39m)\n",
      "File \u001b[1;32m~\\anaconda3\\Lib\\site-packages\\pandas\\core\\generic.py:12003\u001b[0m, in \u001b[0;36mNDFrame.median\u001b[1;34m(self, axis, skipna, numeric_only, **kwargs)\u001b[0m\n\u001b[0;32m  11996\u001b[0m \u001b[38;5;28;01mdef\u001b[39;00m \u001b[38;5;21mmedian\u001b[39m(\n\u001b[0;32m  11997\u001b[0m     \u001b[38;5;28mself\u001b[39m,\n\u001b[0;32m  11998\u001b[0m     axis: Axis \u001b[38;5;241m|\u001b[39m \u001b[38;5;28;01mNone\u001b[39;00m \u001b[38;5;241m=\u001b[39m \u001b[38;5;241m0\u001b[39m,\n\u001b[1;32m   (...)\u001b[0m\n\u001b[0;32m  12001\u001b[0m     \u001b[38;5;241m*\u001b[39m\u001b[38;5;241m*\u001b[39mkwargs,\n\u001b[0;32m  12002\u001b[0m ) \u001b[38;5;241m-\u001b[39m\u001b[38;5;241m>\u001b[39m Series \u001b[38;5;241m|\u001b[39m \u001b[38;5;28mfloat\u001b[39m:\n\u001b[1;32m> 12003\u001b[0m     \u001b[38;5;28;01mreturn\u001b[39;00m \u001b[38;5;28mself\u001b[39m\u001b[38;5;241m.\u001b[39m_stat_function(\n\u001b[0;32m  12004\u001b[0m         \u001b[38;5;124m\"\u001b[39m\u001b[38;5;124mmedian\u001b[39m\u001b[38;5;124m\"\u001b[39m, nanops\u001b[38;5;241m.\u001b[39mnanmedian, axis, skipna, numeric_only, \u001b[38;5;241m*\u001b[39m\u001b[38;5;241m*\u001b[39mkwargs\n\u001b[0;32m  12005\u001b[0m     )\n",
      "File \u001b[1;32m~\\anaconda3\\Lib\\site-packages\\pandas\\core\\generic.py:11949\u001b[0m, in \u001b[0;36mNDFrame._stat_function\u001b[1;34m(self, name, func, axis, skipna, numeric_only, **kwargs)\u001b[0m\n\u001b[0;32m  11945\u001b[0m nv\u001b[38;5;241m.\u001b[39mvalidate_func(name, (), kwargs)\n\u001b[0;32m  11947\u001b[0m validate_bool_kwarg(skipna, \u001b[38;5;124m\"\u001b[39m\u001b[38;5;124mskipna\u001b[39m\u001b[38;5;124m\"\u001b[39m, none_allowed\u001b[38;5;241m=\u001b[39m\u001b[38;5;28;01mFalse\u001b[39;00m)\n\u001b[1;32m> 11949\u001b[0m \u001b[38;5;28;01mreturn\u001b[39;00m \u001b[38;5;28mself\u001b[39m\u001b[38;5;241m.\u001b[39m_reduce(\n\u001b[0;32m  11950\u001b[0m     func, name\u001b[38;5;241m=\u001b[39mname, axis\u001b[38;5;241m=\u001b[39maxis, skipna\u001b[38;5;241m=\u001b[39mskipna, numeric_only\u001b[38;5;241m=\u001b[39mnumeric_only\n\u001b[0;32m  11951\u001b[0m )\n",
      "File \u001b[1;32m~\\anaconda3\\Lib\\site-packages\\pandas\\core\\frame.py:11204\u001b[0m, in \u001b[0;36mDataFrame._reduce\u001b[1;34m(self, op, name, axis, skipna, numeric_only, filter_type, **kwds)\u001b[0m\n\u001b[0;32m  11200\u001b[0m     df \u001b[38;5;241m=\u001b[39m df\u001b[38;5;241m.\u001b[39mT\n\u001b[0;32m  11202\u001b[0m \u001b[38;5;66;03m# After possibly _get_data and transposing, we are now in the\u001b[39;00m\n\u001b[0;32m  11203\u001b[0m \u001b[38;5;66;03m#  simple case where we can use BlockManager.reduce\u001b[39;00m\n\u001b[1;32m> 11204\u001b[0m res \u001b[38;5;241m=\u001b[39m df\u001b[38;5;241m.\u001b[39m_mgr\u001b[38;5;241m.\u001b[39mreduce(blk_func)\n\u001b[0;32m  11205\u001b[0m out \u001b[38;5;241m=\u001b[39m df\u001b[38;5;241m.\u001b[39m_constructor_from_mgr(res, axes\u001b[38;5;241m=\u001b[39mres\u001b[38;5;241m.\u001b[39maxes)\u001b[38;5;241m.\u001b[39miloc[\u001b[38;5;241m0\u001b[39m]\n\u001b[0;32m  11206\u001b[0m \u001b[38;5;28;01mif\u001b[39;00m out_dtype \u001b[38;5;129;01mis\u001b[39;00m \u001b[38;5;129;01mnot\u001b[39;00m \u001b[38;5;28;01mNone\u001b[39;00m \u001b[38;5;129;01mand\u001b[39;00m out\u001b[38;5;241m.\u001b[39mdtype \u001b[38;5;241m!=\u001b[39m \u001b[38;5;124m\"\u001b[39m\u001b[38;5;124mboolean\u001b[39m\u001b[38;5;124m\"\u001b[39m:\n",
      "File \u001b[1;32m~\\anaconda3\\Lib\\site-packages\\pandas\\core\\internals\\managers.py:1459\u001b[0m, in \u001b[0;36mBlockManager.reduce\u001b[1;34m(self, func)\u001b[0m\n\u001b[0;32m   1457\u001b[0m res_blocks: \u001b[38;5;28mlist\u001b[39m[Block] \u001b[38;5;241m=\u001b[39m []\n\u001b[0;32m   1458\u001b[0m \u001b[38;5;28;01mfor\u001b[39;00m blk \u001b[38;5;129;01min\u001b[39;00m \u001b[38;5;28mself\u001b[39m\u001b[38;5;241m.\u001b[39mblocks:\n\u001b[1;32m-> 1459\u001b[0m     nbs \u001b[38;5;241m=\u001b[39m blk\u001b[38;5;241m.\u001b[39mreduce(func)\n\u001b[0;32m   1460\u001b[0m     res_blocks\u001b[38;5;241m.\u001b[39mextend(nbs)\n\u001b[0;32m   1462\u001b[0m index \u001b[38;5;241m=\u001b[39m Index([\u001b[38;5;28;01mNone\u001b[39;00m])  \u001b[38;5;66;03m# placeholder\u001b[39;00m\n",
      "File \u001b[1;32m~\\anaconda3\\Lib\\site-packages\\pandas\\core\\internals\\blocks.py:377\u001b[0m, in \u001b[0;36mBlock.reduce\u001b[1;34m(self, func)\u001b[0m\n\u001b[0;32m    371\u001b[0m \u001b[38;5;129m@final\u001b[39m\n\u001b[0;32m    372\u001b[0m \u001b[38;5;28;01mdef\u001b[39;00m \u001b[38;5;21mreduce\u001b[39m(\u001b[38;5;28mself\u001b[39m, func) \u001b[38;5;241m-\u001b[39m\u001b[38;5;241m>\u001b[39m \u001b[38;5;28mlist\u001b[39m[Block]:\n\u001b[0;32m    373\u001b[0m     \u001b[38;5;66;03m# We will apply the function and reshape the result into a single-row\u001b[39;00m\n\u001b[0;32m    374\u001b[0m     \u001b[38;5;66;03m#  Block with the same mgr_locs; squeezing will be done at a higher level\u001b[39;00m\n\u001b[0;32m    375\u001b[0m     \u001b[38;5;28;01massert\u001b[39;00m \u001b[38;5;28mself\u001b[39m\u001b[38;5;241m.\u001b[39mndim \u001b[38;5;241m==\u001b[39m \u001b[38;5;241m2\u001b[39m\n\u001b[1;32m--> 377\u001b[0m     result \u001b[38;5;241m=\u001b[39m func(\u001b[38;5;28mself\u001b[39m\u001b[38;5;241m.\u001b[39mvalues)\n\u001b[0;32m    379\u001b[0m     \u001b[38;5;28;01mif\u001b[39;00m \u001b[38;5;28mself\u001b[39m\u001b[38;5;241m.\u001b[39mvalues\u001b[38;5;241m.\u001b[39mndim \u001b[38;5;241m==\u001b[39m \u001b[38;5;241m1\u001b[39m:\n\u001b[0;32m    380\u001b[0m         res_values \u001b[38;5;241m=\u001b[39m result\n",
      "File \u001b[1;32m~\\anaconda3\\Lib\\site-packages\\pandas\\core\\frame.py:11136\u001b[0m, in \u001b[0;36mDataFrame._reduce.<locals>.blk_func\u001b[1;34m(values, axis)\u001b[0m\n\u001b[0;32m  11134\u001b[0m         \u001b[38;5;28;01mreturn\u001b[39;00m np\u001b[38;5;241m.\u001b[39marray([result])\n\u001b[0;32m  11135\u001b[0m \u001b[38;5;28;01melse\u001b[39;00m:\n\u001b[1;32m> 11136\u001b[0m     \u001b[38;5;28;01mreturn\u001b[39;00m op(values, axis\u001b[38;5;241m=\u001b[39maxis, skipna\u001b[38;5;241m=\u001b[39mskipna, \u001b[38;5;241m*\u001b[39m\u001b[38;5;241m*\u001b[39mkwds)\n",
      "File \u001b[1;32m~\\anaconda3\\Lib\\site-packages\\pandas\\core\\nanops.py:147\u001b[0m, in \u001b[0;36mbottleneck_switch.__call__.<locals>.f\u001b[1;34m(values, axis, skipna, **kwds)\u001b[0m\n\u001b[0;32m    145\u001b[0m         result \u001b[38;5;241m=\u001b[39m alt(values, axis\u001b[38;5;241m=\u001b[39maxis, skipna\u001b[38;5;241m=\u001b[39mskipna, \u001b[38;5;241m*\u001b[39m\u001b[38;5;241m*\u001b[39mkwds)\n\u001b[0;32m    146\u001b[0m \u001b[38;5;28;01melse\u001b[39;00m:\n\u001b[1;32m--> 147\u001b[0m     result \u001b[38;5;241m=\u001b[39m alt(values, axis\u001b[38;5;241m=\u001b[39maxis, skipna\u001b[38;5;241m=\u001b[39mskipna, \u001b[38;5;241m*\u001b[39m\u001b[38;5;241m*\u001b[39mkwds)\n\u001b[0;32m    149\u001b[0m \u001b[38;5;28;01mreturn\u001b[39;00m result\n",
      "File \u001b[1;32m~\\anaconda3\\Lib\\site-packages\\pandas\\core\\nanops.py:783\u001b[0m, in \u001b[0;36mnanmedian\u001b[1;34m(values, axis, skipna, mask)\u001b[0m\n\u001b[0;32m    781\u001b[0m     inferred \u001b[38;5;241m=\u001b[39m lib\u001b[38;5;241m.\u001b[39minfer_dtype(values)\n\u001b[0;32m    782\u001b[0m     \u001b[38;5;28;01mif\u001b[39;00m inferred \u001b[38;5;129;01min\u001b[39;00m [\u001b[38;5;124m\"\u001b[39m\u001b[38;5;124mstring\u001b[39m\u001b[38;5;124m\"\u001b[39m, \u001b[38;5;124m\"\u001b[39m\u001b[38;5;124mmixed\u001b[39m\u001b[38;5;124m\"\u001b[39m]:\n\u001b[1;32m--> 783\u001b[0m         \u001b[38;5;28;01mraise\u001b[39;00m \u001b[38;5;167;01mTypeError\u001b[39;00m(\u001b[38;5;124mf\u001b[39m\u001b[38;5;124m\"\u001b[39m\u001b[38;5;124mCannot convert \u001b[39m\u001b[38;5;132;01m{\u001b[39;00mvalues\u001b[38;5;132;01m}\u001b[39;00m\u001b[38;5;124m to numeric\u001b[39m\u001b[38;5;124m\"\u001b[39m)\n\u001b[0;32m    784\u001b[0m \u001b[38;5;28;01mtry\u001b[39;00m:\n\u001b[0;32m    785\u001b[0m     values \u001b[38;5;241m=\u001b[39m values\u001b[38;5;241m.\u001b[39mastype(\u001b[38;5;124m\"\u001b[39m\u001b[38;5;124mf8\u001b[39m\u001b[38;5;124m\"\u001b[39m)\n",
      "\u001b[1;31mTypeError\u001b[0m: Cannot convert [['usa' 'usa' 'usa' 'usa' 'usa' 'usa' 'usa' 'usa' 'usa' 'usa' 'usa' 'usa'\n  'usa' 'usa' 'japan' 'usa' 'usa' 'usa' 'japan' 'europe' 'europe'\n  'europe' 'europe' 'europe' 'usa' 'usa' 'usa' 'usa' 'usa' 'japan' 'usa'\n  'japan' 'usa' 'usa' 'usa' 'usa' 'usa' 'usa' 'usa' 'usa' 'usa' 'usa'\n  'usa' 'usa' 'usa' 'usa' 'usa' 'usa' 'usa' 'usa' 'europe' 'europe'\n  'europe' 'japan' 'japan' 'europe' 'usa' 'japan' 'usa' 'europe' 'usa'\n  'usa' 'usa' 'usa' 'usa' 'usa' 'usa' 'usa' 'usa' 'usa' 'usa' 'japan'\n  'usa' 'usa' 'usa' 'usa' 'europe' 'europe' 'europe' 'europe' 'usa'\n  'japan' 'japan' 'usa' 'japan' 'usa' 'usa' 'usa' 'usa' 'usa' 'usa' 'usa'\n  'usa' 'usa' 'usa' 'usa' 'usa' 'usa' 'usa' 'usa' 'usa' 'usa' 'europe'\n  'usa' 'usa' 'usa' 'usa' 'usa' 'japan' 'usa' 'japan' 'japan' 'usa' 'usa'\n  'europe' 'usa' 'usa' 'europe' 'europe' 'europe' 'europe' 'usa' 'europe'\n  'japan' 'usa' 'usa' 'usa' 'usa' 'usa' 'japan' 'usa' 'japan' 'usa' 'usa'\n  'usa' 'usa' 'usa' 'usa' 'usa' 'usa' 'usa' 'europe' 'europe' 'europe'\n  'japan' 'japan' 'usa' 'europe' 'europe' 'japan' 'japan' 'europe' 'usa'\n  'usa' 'usa' 'usa' 'usa' 'usa' 'usa' 'usa' 'usa' 'usa' 'usa' 'usa' 'usa'\n  'usa' 'usa' 'japan' 'usa' 'usa' 'usa' 'japan' 'europe' 'japan' 'usa'\n  'europe' 'usa' 'europe' 'europe' 'europe' 'europe' 'japan' 'europe'\n  'europe' 'usa' 'usa' 'europe' 'usa' 'usa' 'usa' 'usa' 'usa' 'usa' 'usa'\n  'usa' 'usa' 'usa' 'europe' 'japan' 'usa' 'usa' 'usa' 'usa' 'europe'\n  'japan' 'japan' 'usa' 'europe' 'usa' 'europe' 'japan' 'europe' 'usa'\n  'usa' 'usa' 'usa' 'japan' 'usa' 'europe' 'usa' 'japan' 'usa' 'usa'\n  'usa' 'usa' 'usa' 'usa' 'usa' 'usa' 'usa' 'usa' 'usa' 'usa' 'europe'\n  'usa' 'japan' 'usa' 'usa' 'usa' 'japan' 'europe' 'japan' 'europe'\n  'japan' 'europe' 'usa' 'japan' 'japan' 'japan' 'usa' 'usa' 'usa' 'usa'\n  'usa' 'usa' 'usa' 'usa' 'usa' 'usa' 'usa' 'usa' 'usa' 'usa' 'usa' 'usa'\n  'usa' 'usa' 'japan' 'japan' 'usa' 'japan' 'usa' 'usa' 'japan' 'europe'\n  'europe' 'europe' 'europe' 'europe' 'japan' 'usa' 'usa' 'usa' 'usa'\n  'usa' 'usa' 'usa' 'usa' 'usa' 'usa' 'usa' 'usa' 'usa' 'europe' 'japan'\n  'usa' 'usa' 'europe' 'usa' 'europe' 'usa' 'usa' 'usa' 'japan' 'europe'\n  'usa' 'usa' 'usa' 'usa' 'europe' 'japan' 'usa' 'japan' 'usa' 'usa'\n  'usa' 'usa' 'europe' 'japan' 'japan' 'japan' 'japan' 'japan' 'usa'\n  'japan' 'europe' 'europe' 'europe' 'europe' 'japan' 'europe' 'japan'\n  'europe' 'japan' 'japan' 'europe' 'usa' 'japan' 'usa' 'usa' 'usa' 'usa'\n  'usa' 'japan' 'usa' 'japan' 'japan' 'japan' 'japan' 'japan' 'usa' 'usa'\n  'usa' 'europe' 'europe' 'japan' 'japan' 'japan' 'japan' 'europe'\n  'europe' 'japan' 'japan' 'usa' 'usa' 'usa' 'usa' 'usa' 'usa' 'usa'\n  'usa' 'usa' 'usa' 'usa' 'usa' 'europe' 'japan' 'japan' 'usa' 'usa'\n  'japan' 'japan' 'japan' 'japan' 'japan' 'japan' 'usa' 'usa' 'usa' 'usa'\n  'japan' 'usa' 'usa' 'usa' 'europe' 'usa' 'usa' 'usa']\n ['chevrolet chevelle malibu' 'buick skylark 320' 'plymouth satellite'\n  'amc rebel sst' 'ford torino' 'ford galaxie 500' 'chevrolet impala'\n  'plymouth fury iii' 'pontiac catalina' 'amc ambassador dpl'\n  'dodge challenger se' \"plymouth 'cuda 340\" 'chevrolet monte carlo'\n  'buick estate wagon (sw)' 'toyota corona mark ii' 'plymouth duster'\n  'amc hornet' 'ford maverick' 'datsun pl510'\n  'volkswagen 1131 deluxe sedan' 'peugeot 504' 'audi 100 ls' 'saab 99e'\n  'bmw 2002' 'amc gremlin' 'ford f250' 'chevy c20' 'dodge d200'\n  'hi 1200d' 'datsun pl510' 'chevrolet vega 2300' 'toyota corona'\n  'ford pinto' 'amc gremlin' 'plymouth satellite custom'\n  'chevrolet chevelle malibu' 'ford torino 500' 'amc matador'\n  'chevrolet impala' 'pontiac catalina brougham' 'ford galaxie 500'\n  'plymouth fury iii' 'dodge monaco (sw)' 'ford country squire (sw)'\n  'pontiac safari (sw)' 'amc hornet sportabout (sw)'\n  'chevrolet vega (sw)' 'pontiac firebird' 'ford mustang'\n  'mercury capri 2000' 'opel 1900' 'peugeot 304' 'fiat 124b'\n  'toyota corolla 1200' 'datsun 1200' 'volkswagen model 111'\n  'plymouth cricket' 'toyota corona hardtop' 'dodge colt hardtop'\n  'volkswagen type 3' 'chevrolet vega' 'ford pinto runabout'\n  'chevrolet impala' 'pontiac catalina' 'plymouth fury iii'\n  'ford galaxie 500' 'amc ambassador sst' 'mercury marquis'\n  'buick lesabre custom' 'oldsmobile delta 88 royale'\n  'chrysler newport royal' 'mazda rx2 coupe' 'amc matador (sw)'\n  'chevrolet chevelle concours (sw)' 'ford gran torino (sw)'\n  'plymouth satellite custom (sw)' 'volvo 145e (sw)'\n  'volkswagen 411 (sw)' 'peugeot 504 (sw)' 'renault 12 (sw)'\n  'ford pinto (sw)' 'datsun 510 (sw)' 'toyouta corona mark ii (sw)'\n  'dodge colt (sw)' 'toyota corolla 1600 (sw)' 'buick century 350'\n  'amc matador' 'chevrolet malibu' 'ford gran torino'\n  'dodge coronet custom' 'mercury marquis brougham'\n  'chevrolet caprice classic' 'ford ltd' 'plymouth fury gran sedan'\n  'chrysler new yorker brougham' 'buick electra 225 custom'\n  'amc ambassador brougham' 'plymouth valiant' 'chevrolet nova custom'\n  'amc hornet' 'ford maverick' 'plymouth duster'\n  'volkswagen super beetle' 'chevrolet impala' 'ford country'\n  'plymouth custom suburb' 'oldsmobile vista cruiser' 'amc gremlin'\n  'toyota carina' 'chevrolet vega' 'datsun 610' 'maxda rx3' 'ford pinto'\n  'mercury capri v6' 'fiat 124 sport coupe' 'chevrolet monte carlo s'\n  'pontiac grand prix' 'fiat 128' 'opel manta' 'audi 100ls' 'volvo 144ea'\n  'dodge dart custom' 'saab 99le' 'toyota mark ii' 'oldsmobile omega'\n  'plymouth duster' 'ford maverick' 'amc hornet' 'chevrolet nova'\n  'datsun b210' 'ford pinto' 'toyota corolla 1200' 'chevrolet vega'\n  'chevrolet chevelle malibu classic' 'amc matador'\n  'plymouth satellite sebring' 'ford gran torino'\n  'buick century luxus (sw)' 'dodge coronet custom (sw)'\n  'ford gran torino (sw)' 'amc matador (sw)' 'audi fox'\n  'volkswagen dasher' 'opel manta' 'toyota corona' 'datsun 710'\n  'dodge colt' 'fiat 128' 'fiat 124 tc' 'honda civic' 'subaru'\n  'fiat x1.9' 'plymouth valiant custom' 'chevrolet nova'\n  'mercury monarch' 'ford maverick' 'pontiac catalina'\n  'chevrolet bel air' 'plymouth grand fury' 'ford ltd' 'buick century'\n  'chevroelt chevelle malibu' 'amc matador' 'plymouth fury'\n  'buick skyhawk' 'chevrolet monza 2+2' 'ford mustang ii'\n  'toyota corolla' 'ford pinto' 'amc gremlin' 'pontiac astro'\n  'toyota corona' 'volkswagen dasher' 'datsun 710' 'ford pinto'\n  'volkswagen rabbit' 'amc pacer' 'audi 100ls' 'peugeot 504'\n  'volvo 244dl' 'saab 99le' 'honda civic cvcc' 'fiat 131' 'opel 1900'\n  'capri ii' 'dodge colt' 'renault 12tl'\n  'chevrolet chevelle malibu classic' 'dodge coronet brougham'\n  'amc matador' 'ford gran torino' 'plymouth valiant' 'chevrolet nova'\n  'ford maverick' 'amc hornet' 'chevrolet chevette' 'chevrolet woody'\n  'vw rabbit' 'honda civic' 'dodge aspen se' 'ford granada ghia'\n  'pontiac ventura sj' 'amc pacer d/l' 'volkswagen rabbit' 'datsun b-210'\n  'toyota corolla' 'ford pinto' 'volvo 245' 'plymouth volare premier v8'\n  'peugeot 504' 'toyota mark ii' 'mercedes-benz 280s' 'cadillac seville'\n  'chevy c10' 'ford f108' 'dodge d100' 'honda accord cvcc'\n  'buick opel isuzu deluxe' 'renault 5 gtl' 'plymouth arrow gs'\n  'datsun f-10 hatchback' 'chevrolet caprice classic'\n  'oldsmobile cutlass supreme' 'dodge monaco brougham'\n  'mercury cougar brougham' 'chevrolet concours' 'buick skylark'\n  'plymouth volare custom' 'ford granada' 'pontiac grand prix lj'\n  'chevrolet monte carlo landau' 'chrysler cordoba' 'ford thunderbird'\n  'volkswagen rabbit custom' 'pontiac sunbird coupe'\n  'toyota corolla liftback' 'ford mustang ii 2+2' 'chevrolet chevette'\n  'dodge colt m/m' 'subaru dl' 'volkswagen dasher' 'datsun 810'\n  'bmw 320i' 'mazda rx-4' 'volkswagen rabbit custom diesel' 'ford fiesta'\n  'mazda glc deluxe' 'datsun b210 gx' 'honda civic cvcc'\n  'oldsmobile cutlass salon brougham' 'dodge diplomat'\n  'mercury monarch ghia' 'pontiac phoenix lj' 'chevrolet malibu'\n  'ford fairmont (auto)' 'ford fairmont (man)' 'plymouth volare'\n  'amc concord' 'buick century special' 'mercury zephyr' 'dodge aspen'\n  'amc concord d/l' 'chevrolet monte carlo landau'\n  'buick regal sport coupe (turbo)' 'ford futura' 'dodge magnum xe'\n  'chevrolet chevette' 'toyota corona' 'datsun 510' 'dodge omni'\n  'toyota celica gt liftback' 'plymouth sapporo' 'oldsmobile starfire sx'\n  'datsun 200-sx' 'audi 5000' 'volvo 264gl' 'saab 99gle' 'peugeot 604sl'\n  'volkswagen scirocco' 'honda accord lx' 'pontiac lemans v6'\n  'mercury zephyr 6' 'ford fairmont 4' 'amc concord dl 6' 'dodge aspen 6'\n  'chevrolet caprice classic' 'ford ltd landau' 'mercury grand marquis'\n  'dodge st. regis' 'buick estate wagon (sw)' 'ford country squire (sw)'\n  'chevrolet malibu classic (sw)' 'chrysler lebaron town @ country (sw)'\n  'vw rabbit custom' 'maxda glc deluxe' 'dodge colt hatchback custom'\n  'amc spirit dl' 'mercedes benz 300d' 'cadillac eldorado' 'peugeot 504'\n  'oldsmobile cutlass salon brougham' 'plymouth horizon'\n  'plymouth horizon tc3' 'datsun 210' 'fiat strada custom'\n  'buick skylark limited' 'chevrolet citation'\n  'oldsmobile omega brougham' 'pontiac phoenix' 'vw rabbit'\n  'toyota corolla tercel' 'chevrolet chevette' 'datsun 310'\n  'chevrolet citation' 'ford fairmont' 'amc concord' 'dodge aspen'\n  'audi 4000' 'toyota corona liftback' 'mazda 626' 'datsun 510 hatchback'\n  'toyota corolla' 'mazda glc' 'dodge colt' 'datsun 210'\n  'vw rabbit c (diesel)' 'vw dasher (diesel)' 'audi 5000s (diesel)'\n  'mercedes-benz 240d' 'honda civic 1500 gl' 'renault lecar deluxe'\n  'subaru dl' 'vokswagen rabbit' 'datsun 280-zx' 'mazda rx-7 gs'\n  'triumph tr7 coupe' 'ford mustang cobra' 'honda accord'\n  'plymouth reliant' 'buick skylark' 'dodge aries wagon (sw)'\n  'chevrolet citation' 'plymouth reliant' 'toyota starlet'\n  'plymouth champ' 'honda civic 1300' 'subaru' 'datsun 210 mpg'\n  'toyota tercel' 'mazda glc 4' 'plymouth horizon 4' 'ford escort 4w'\n  'ford escort 2h' 'volkswagen jetta' 'renault 18i' 'honda prelude'\n  'toyota corolla' 'datsun 200sx' 'mazda 626' 'peugeot 505s turbo diesel'\n  'volvo diesel' 'toyota cressida' 'datsun 810 maxima' 'buick century'\n  'oldsmobile cutlass ls' 'ford granada gl' 'chrysler lebaron salon'\n  'chevrolet cavalier' 'chevrolet cavalier wagon'\n  'chevrolet cavalier 2-door' 'pontiac j2000 se hatchback'\n  'dodge aries se' 'pontiac phoenix' 'ford fairmont futura'\n  'amc concord dl' 'volkswagen rabbit l' 'mazda glc custom l'\n  'mazda glc custom' 'plymouth horizon miser' 'mercury lynx l'\n  'nissan stanza xe' 'honda accord' 'toyota corolla' 'honda civic'\n  'honda civic (auto)' 'datsun 310 gx' 'buick century limited'\n  'oldsmobile cutlass ciera (diesel)' 'chrysler lebaron medallion'\n  'ford granada l' 'toyota celica gt' 'dodge charger 2.2'\n  'chevrolet camaro' 'ford mustang gl' 'vw pickup' 'dodge rampage'\n  'ford ranger' 'chevy s-10']] to numeric"
     ]
    }
   ],
   "source": []
  },
  {
   "cell_type": "markdown",
   "id": "f5a3688c-79d8-4dca-9f32-45940eebd44d",
   "metadata": {},
   "source": [
    "Mode"
   ]
  },
  {
   "cell_type": "code",
   "execution_count": 22,
   "id": "f2cfc203-44a0-42b9-90dc-76b2cf609ad6",
   "metadata": {},
   "outputs": [
    {
     "data": {
      "text/plain": [
       "[1, 2, 3, 4, 4, 4, 4, 5, 6, 7, 7, 7, 8]"
      ]
     },
     "execution_count": 22,
     "metadata": {},
     "output_type": "execute_result"
    }
   ],
   "source": [
    "data"
   ]
  },
  {
   "cell_type": "code",
   "execution_count": 23,
   "id": "395a59a3-b427-43f2-9480-b3133f7a3d79",
   "metadata": {},
   "outputs": [
    {
     "data": {
      "text/plain": [
       "4"
      ]
     },
     "execution_count": 23,
     "metadata": {},
     "output_type": "execute_result"
    }
   ],
   "source": [
    "statistics.mode(data)"
   ]
  },
  {
   "cell_type": "code",
   "execution_count": 24,
   "id": "44b64806-c2d9-475e-b42d-b45ecab504e2",
   "metadata": {},
   "outputs": [
    {
     "data": {
      "text/plain": [
       "0    4\n",
       "Name: cylinders, dtype: int64"
      ]
     },
     "execution_count": 24,
     "metadata": {},
     "output_type": "execute_result"
    }
   ],
   "source": [
    "df[\"cylinders\"].mode()"
   ]
  },
  {
   "cell_type": "code",
   "execution_count": 25,
   "id": "a3cc9244-c39f-41e1-9441-7a6a37c97214",
   "metadata": {},
   "outputs": [
    {
     "data": {
      "text/html": [
       "<div>\n",
       "<style scoped>\n",
       "    .dataframe tbody tr th:only-of-type {\n",
       "        vertical-align: middle;\n",
       "    }\n",
       "\n",
       "    .dataframe tbody tr th {\n",
       "        vertical-align: top;\n",
       "    }\n",
       "\n",
       "    .dataframe thead th {\n",
       "        text-align: right;\n",
       "    }\n",
       "</style>\n",
       "<table border=\"1\" class=\"dataframe\">\n",
       "  <thead>\n",
       "    <tr style=\"text-align: right;\">\n",
       "      <th></th>\n",
       "      <th>mpg</th>\n",
       "      <th>cylinders</th>\n",
       "      <th>displacement</th>\n",
       "      <th>horsepower</th>\n",
       "      <th>weight</th>\n",
       "      <th>acceleration</th>\n",
       "      <th>model_year</th>\n",
       "      <th>origin</th>\n",
       "      <th>name</th>\n",
       "    </tr>\n",
       "  </thead>\n",
       "  <tbody>\n",
       "    <tr>\n",
       "      <th>0</th>\n",
       "      <td>13.0</td>\n",
       "      <td>4.0</td>\n",
       "      <td>97.0</td>\n",
       "      <td>150.0</td>\n",
       "      <td>1985</td>\n",
       "      <td>14.5</td>\n",
       "      <td>73.0</td>\n",
       "      <td>usa</td>\n",
       "      <td>ford pinto</td>\n",
       "    </tr>\n",
       "    <tr>\n",
       "      <th>1</th>\n",
       "      <td>NaN</td>\n",
       "      <td>NaN</td>\n",
       "      <td>NaN</td>\n",
       "      <td>NaN</td>\n",
       "      <td>2130</td>\n",
       "      <td>NaN</td>\n",
       "      <td>NaN</td>\n",
       "      <td>NaN</td>\n",
       "      <td>NaN</td>\n",
       "    </tr>\n",
       "  </tbody>\n",
       "</table>\n",
       "</div>"
      ],
      "text/plain": [
       "    mpg  cylinders  displacement  horsepower  weight  acceleration  \\\n",
       "0  13.0        4.0          97.0       150.0    1985          14.5   \n",
       "1   NaN        NaN           NaN         NaN    2130           NaN   \n",
       "\n",
       "   model_year origin        name  \n",
       "0        73.0    usa  ford pinto  \n",
       "1         NaN    NaN         NaN  "
      ]
     },
     "execution_count": 25,
     "metadata": {},
     "output_type": "execute_result"
    }
   ],
   "source": [
    "df.mode(axis = 0, dropna = False)"
   ]
  },
  {
   "cell_type": "code",
   "execution_count": 26,
   "id": "4945dba4-beef-4aaa-8371-9708cd37c1b8",
   "metadata": {},
   "outputs": [
    {
     "data": {
      "text/plain": [
       "204"
      ]
     },
     "execution_count": 26,
     "metadata": {},
     "output_type": "execute_result"
    }
   ],
   "source": [
    "len(df[df[\"cylinders\"]==4])"
   ]
  },
  {
   "cell_type": "code",
   "execution_count": 27,
   "id": "7ab1252a-f663-4bf1-a16d-5c89a63d5553",
   "metadata": {},
   "outputs": [
    {
     "data": {
      "text/plain": [
       "4"
      ]
     },
     "execution_count": 27,
     "metadata": {},
     "output_type": "execute_result"
    }
   ],
   "source": [
    "len(df[df[\"weight\"]==2130])"
   ]
  },
  {
   "cell_type": "code",
   "execution_count": 28,
   "id": "9175197a-0ff5-4541-aae1-73540d3922de",
   "metadata": {},
   "outputs": [
    {
     "data": {
      "text/html": [
       "<div>\n",
       "<style scoped>\n",
       "    .dataframe tbody tr th:only-of-type {\n",
       "        vertical-align: middle;\n",
       "    }\n",
       "\n",
       "    .dataframe tbody tr th {\n",
       "        vertical-align: top;\n",
       "    }\n",
       "\n",
       "    .dataframe thead th {\n",
       "        text-align: right;\n",
       "    }\n",
       "</style>\n",
       "<table border=\"1\" class=\"dataframe\">\n",
       "  <thead>\n",
       "    <tr style=\"text-align: right;\">\n",
       "      <th></th>\n",
       "      <th>mpg</th>\n",
       "      <th>cylinders</th>\n",
       "      <th>displacement</th>\n",
       "      <th>horsepower</th>\n",
       "      <th>weight</th>\n",
       "      <th>acceleration</th>\n",
       "      <th>model_year</th>\n",
       "    </tr>\n",
       "  </thead>\n",
       "  <tbody>\n",
       "    <tr>\n",
       "      <th>count</th>\n",
       "      <td>398.000000</td>\n",
       "      <td>398.000000</td>\n",
       "      <td>398.000000</td>\n",
       "      <td>392.000000</td>\n",
       "      <td>398.000000</td>\n",
       "      <td>398.000000</td>\n",
       "      <td>398.000000</td>\n",
       "    </tr>\n",
       "    <tr>\n",
       "      <th>mean</th>\n",
       "      <td>23.514573</td>\n",
       "      <td>5.454774</td>\n",
       "      <td>193.425879</td>\n",
       "      <td>104.469388</td>\n",
       "      <td>2970.424623</td>\n",
       "      <td>15.568090</td>\n",
       "      <td>76.010050</td>\n",
       "    </tr>\n",
       "    <tr>\n",
       "      <th>std</th>\n",
       "      <td>7.815984</td>\n",
       "      <td>1.701004</td>\n",
       "      <td>104.269838</td>\n",
       "      <td>38.491160</td>\n",
       "      <td>846.841774</td>\n",
       "      <td>2.757689</td>\n",
       "      <td>3.697627</td>\n",
       "    </tr>\n",
       "    <tr>\n",
       "      <th>min</th>\n",
       "      <td>9.000000</td>\n",
       "      <td>3.000000</td>\n",
       "      <td>68.000000</td>\n",
       "      <td>46.000000</td>\n",
       "      <td>1613.000000</td>\n",
       "      <td>8.000000</td>\n",
       "      <td>70.000000</td>\n",
       "    </tr>\n",
       "    <tr>\n",
       "      <th>25%</th>\n",
       "      <td>17.500000</td>\n",
       "      <td>4.000000</td>\n",
       "      <td>104.250000</td>\n",
       "      <td>75.000000</td>\n",
       "      <td>2223.750000</td>\n",
       "      <td>13.825000</td>\n",
       "      <td>73.000000</td>\n",
       "    </tr>\n",
       "    <tr>\n",
       "      <th>50%</th>\n",
       "      <td>23.000000</td>\n",
       "      <td>4.000000</td>\n",
       "      <td>148.500000</td>\n",
       "      <td>93.500000</td>\n",
       "      <td>2803.500000</td>\n",
       "      <td>15.500000</td>\n",
       "      <td>76.000000</td>\n",
       "    </tr>\n",
       "    <tr>\n",
       "      <th>75%</th>\n",
       "      <td>29.000000</td>\n",
       "      <td>8.000000</td>\n",
       "      <td>262.000000</td>\n",
       "      <td>126.000000</td>\n",
       "      <td>3608.000000</td>\n",
       "      <td>17.175000</td>\n",
       "      <td>79.000000</td>\n",
       "    </tr>\n",
       "    <tr>\n",
       "      <th>max</th>\n",
       "      <td>46.600000</td>\n",
       "      <td>8.000000</td>\n",
       "      <td>455.000000</td>\n",
       "      <td>230.000000</td>\n",
       "      <td>5140.000000</td>\n",
       "      <td>24.800000</td>\n",
       "      <td>82.000000</td>\n",
       "    </tr>\n",
       "  </tbody>\n",
       "</table>\n",
       "</div>"
      ],
      "text/plain": [
       "              mpg   cylinders  displacement  horsepower       weight  \\\n",
       "count  398.000000  398.000000    398.000000  392.000000   398.000000   \n",
       "mean    23.514573    5.454774    193.425879  104.469388  2970.424623   \n",
       "std      7.815984    1.701004    104.269838   38.491160   846.841774   \n",
       "min      9.000000    3.000000     68.000000   46.000000  1613.000000   \n",
       "25%     17.500000    4.000000    104.250000   75.000000  2223.750000   \n",
       "50%     23.000000    4.000000    148.500000   93.500000  2803.500000   \n",
       "75%     29.000000    8.000000    262.000000  126.000000  3608.000000   \n",
       "max     46.600000    8.000000    455.000000  230.000000  5140.000000   \n",
       "\n",
       "       acceleration  model_year  \n",
       "count    398.000000  398.000000  \n",
       "mean      15.568090   76.010050  \n",
       "std        2.757689    3.697627  \n",
       "min        8.000000   70.000000  \n",
       "25%       13.825000   73.000000  \n",
       "50%       15.500000   76.000000  \n",
       "75%       17.175000   79.000000  \n",
       "max       24.800000   82.000000  "
      ]
     },
     "execution_count": 28,
     "metadata": {},
     "output_type": "execute_result"
    }
   ],
   "source": [
    "df.describe()"
   ]
  },
  {
   "cell_type": "code",
   "execution_count": null,
   "id": "5f9e8022-1385-44af-85f2-4c79924c7c79",
   "metadata": {},
   "outputs": [],
   "source": []
  }
 ],
 "metadata": {
  "kernelspec": {
   "display_name": "Python 3 (ipykernel)",
   "language": "python",
   "name": "python3"
  },
  "language_info": {
   "codemirror_mode": {
    "name": "ipython",
    "version": 3
   },
   "file_extension": ".py",
   "mimetype": "text/x-python",
   "name": "python",
   "nbconvert_exporter": "python",
   "pygments_lexer": "ipython3",
   "version": "3.11.7"
  }
 },
 "nbformat": 4,
 "nbformat_minor": 5
}
