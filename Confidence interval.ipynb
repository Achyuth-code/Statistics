{
 "cells": [
  {
   "cell_type": "code",
   "execution_count": 1,
   "id": "db196e91-e6a0-4a10-81ea-12228145793a",
   "metadata": {},
   "outputs": [],
   "source": [
    "import numpy as np\n",
    "import scipy.stats as st"
   ]
  },
  {
   "cell_type": "markdown",
   "id": "8ae7d490-dd57-4ec5-8dea-b3ed4aab2645",
   "metadata": {},
   "source": [
    "Calculate the 90% confidence Intervals of the data set of size(n=20) using the t Distribution using the t.interval() function and passing the alpha parameter to 0.90 in the python"
   ]
  },
  {
   "cell_type": "code",
   "execution_count": 2,
   "id": "487e60f6-e837-42ac-8164-0a11270e4b6e",
   "metadata": {},
   "outputs": [],
   "source": [
    "gfg_data = [1, 1, 1, 2, 2, 2, 3, 3, 3, 3,  \n",
    "            3, 4, 4, 5, 5, 5, 6, 7, 8, 10]"
   ]
  },
  {
   "cell_type": "code",
   "execution_count": 4,
   "id": "61965395-46c0-4abf-b8a4-dbe7ea13cf53",
   "metadata": {},
   "outputs": [
    {
     "data": {
      "text/plain": [
       "(2.962098014195961, 4.837901985804038)"
      ]
     },
     "execution_count": 4,
     "metadata": {},
     "output_type": "execute_result"
    }
   ],
   "source": [
    "st.t.interval(confidence = 0.90, df = len(gfg_data)-1, loc = np.mean(gfg_data), scale=st.sem(gfg_data))"
   ]
  },
  {
   "cell_type": "code",
   "execution_count": 5,
   "id": "251eb57c-7c3f-4ba3-b7d6-123d171c0d39",
   "metadata": {},
   "outputs": [
    {
     "data": {
      "text/plain": [
       "3.9"
      ]
     },
     "execution_count": 5,
     "metadata": {},
     "output_type": "execute_result"
    }
   ],
   "source": [
    "np.mean(gfg_data)"
   ]
  },
  {
   "cell_type": "markdown",
   "id": "a2055ace-46b9-455d-ad44-dca21127548d",
   "metadata": {},
   "source": [
    "\n",
    "Calculate the 90% confidence Intervals of the random data set of size(n=100) using the norm Distribution using the norm.interval() function and passing the alpha parameter to 0.90 in the python."
   ]
  },
  {
   "cell_type": "code",
   "execution_count": 7,
   "id": "8df8f510-1245-4e2d-b1b3-97a73d0b6698",
   "metadata": {},
   "outputs": [],
   "source": [
    "np.random.seed(0)\n",
    "gfg_data = np. random.randint(5,10,100)"
   ]
  },
  {
   "cell_type": "code",
   "execution_count": 8,
   "id": "5bbf77bd-9913-487f-a2f1-e2da88279086",
   "metadata": {},
   "outputs": [
    {
     "data": {
      "text/plain": [
       "(6.722821921612098, 7.197178078387902)"
      ]
     },
     "execution_count": 8,
     "metadata": {},
     "output_type": "execute_result"
    }
   ],
   "source": [
    "st.norm.interval(confidence = 0.90,loc = np.mean(gfg_data), scale=st.sem(gfg_data))"
   ]
  },
  {
   "cell_type": "code",
   "execution_count": 9,
   "id": "7deed53a-864b-4dc8-8c50-64e5653989e4",
   "metadata": {},
   "outputs": [
    {
     "data": {
      "text/plain": [
       "6.96"
      ]
     },
     "execution_count": 9,
     "metadata": {},
     "output_type": "execute_result"
    }
   ],
   "source": [
    "np.mean(gfg_data)"
   ]
  },
  {
   "cell_type": "code",
   "execution_count": null,
   "id": "08466cbb-4f89-41b1-b4e4-2b38851165e2",
   "metadata": {},
   "outputs": [],
   "source": []
  }
 ],
 "metadata": {
  "kernelspec": {
   "display_name": "Python 3 (ipykernel)",
   "language": "python",
   "name": "python3"
  },
  "language_info": {
   "codemirror_mode": {
    "name": "ipython",
    "version": 3
   },
   "file_extension": ".py",
   "mimetype": "text/x-python",
   "name": "python",
   "nbconvert_exporter": "python",
   "pygments_lexer": "ipython3",
   "version": "3.11.7"
  }
 },
 "nbformat": 4,
 "nbformat_minor": 5
}
