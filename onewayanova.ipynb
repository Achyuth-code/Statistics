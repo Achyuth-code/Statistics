{
 "cells": [
  {
   "cell_type": "code",
   "execution_count": 1,
   "id": "3bca2723-6665-43da-8e69-553fcfdbda0d",
   "metadata": {},
   "outputs": [],
   "source": [
    "from scipy.stats import f_oneway"
   ]
  },
  {
   "cell_type": "code",
   "execution_count": 2,
   "id": "663c1dae-42d6-41ad-8a84-e598c2aa1e81",
   "metadata": {},
   "outputs": [],
   "source": [
    "performance1 = [89, 89, 88, 78, 79]\n",
    "performance2 = [93, 92, 94, 89, 88]\n",
    "performance3 = [89, 88, 89, 93, 90]\n",
    "performance4 = [81, 78, 81, 92, 82]"
   ]
  },
  {
   "cell_type": "code",
   "execution_count": 3,
   "id": "b85b167b-9789-4279-8ad8-bb08d0a77e50",
   "metadata": {},
   "outputs": [],
   "source": [
    "alpha = 0.05"
   ]
  },
  {
   "cell_type": "code",
   "execution_count": 4,
   "id": "b47e5415-0a93-49a1-ab8a-5ab9adcdaceb",
   "metadata": {},
   "outputs": [],
   "source": [
    "stat,pvalue = f_oneway(performance1,performance2,performance3,performance4)"
   ]
  },
  {
   "cell_type": "code",
   "execution_count": 5,
   "id": "b276ef3d-c7b6-4ecf-8f24-19d64c9499fd",
   "metadata": {},
   "outputs": [
    {
     "data": {
      "text/plain": [
       "(4.625000000000002, 0.016336459839780215)"
      ]
     },
     "execution_count": 5,
     "metadata": {},
     "output_type": "execute_result"
    }
   ],
   "source": [
    "stat,pvalue"
   ]
  },
  {
   "cell_type": "code",
   "execution_count": 6,
   "id": "94a725f9-8a15-487b-acd2-caf79d65ba44",
   "metadata": {},
   "outputs": [
    {
     "name": "stdout",
     "output_type": "stream",
     "text": [
      "Reject the null hypothesis\n"
     ]
    }
   ],
   "source": [
    "if(pvalue<alpha):\n",
    "    print(\"Reject the null hypothesis\")\n",
    "else:\n",
    "    print(\"Accept the null hypothesis\")"
   ]
  },
  {
   "cell_type": "code",
   "execution_count": 7,
   "id": "5a9c94c5-09ec-4f1b-a598-05c1296ba01d",
   "metadata": {},
   "outputs": [],
   "source": [
    "e = [2,4,2]\n",
    "m =[2,3,4]\n",
    "s = [1,2,5]"
   ]
  },
  {
   "cell_type": "code",
   "execution_count": 8,
   "id": "58717c1e-7eaa-4a77-be3a-7ff123cb9037",
   "metadata": {},
   "outputs": [
    {
     "data": {
      "text/plain": [
       "F_onewayResult(statistic=0.04999999999999999, pvalue=0.9516215013591449)"
      ]
     },
     "execution_count": 8,
     "metadata": {},
     "output_type": "execute_result"
    }
   ],
   "source": [
    "f_oneway(e,m,s)"
   ]
  },
  {
   "cell_type": "code",
   "execution_count": null,
   "id": "e5188dd3-56f6-43e9-a1f5-a8793c10cffe",
   "metadata": {},
   "outputs": [],
   "source": []
  }
 ],
 "metadata": {
  "kernelspec": {
   "display_name": "Python 3 (ipykernel)",
   "language": "python",
   "name": "python3"
  },
  "language_info": {
   "codemirror_mode": {
    "name": "ipython",
    "version": 3
   },
   "file_extension": ".py",
   "mimetype": "text/x-python",
   "name": "python",
   "nbconvert_exporter": "python",
   "pygments_lexer": "ipython3",
   "version": "3.11.7"
  }
 },
 "nbformat": 4,
 "nbformat_minor": 5
}
