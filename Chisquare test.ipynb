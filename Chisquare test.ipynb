{
 "cells": [
  {
   "cell_type": "code",
   "execution_count": 1,
   "id": "082ae264-063d-4b3f-ae04-a17f983dce60",
   "metadata": {},
   "outputs": [],
   "source": [
    "from scipy.stats import chisquare"
   ]
  },
  {
   "cell_type": "code",
   "execution_count": 2,
   "id": "8880952f-2a00-46e4-b3ff-3d84b33a423d",
   "metadata": {},
   "outputs": [],
   "source": [
    "chi_square,pvalue = chisquare([24,56,48])"
   ]
  },
  {
   "cell_type": "code",
   "execution_count": 3,
   "id": "eb5feae8-770d-4a47-a27c-9d8af90e2b42",
   "metadata": {},
   "outputs": [
    {
     "data": {
      "text/plain": [
       "(13.0, 0.0015034391929775717)"
      ]
     },
     "execution_count": 3,
     "metadata": {},
     "output_type": "execute_result"
    }
   ],
   "source": [
    "chi_square,pvalue"
   ]
  },
  {
   "cell_type": "code",
   "execution_count": 4,
   "id": "bc06242d-13f7-4e92-8f41-f1fa9bc7d7df",
   "metadata": {},
   "outputs": [],
   "source": [
    "alpha = 0.01"
   ]
  },
  {
   "cell_type": "code",
   "execution_count": 8,
   "id": "4d48abc6-57b7-4aba-8db5-85f6674ef5a1",
   "metadata": {},
   "outputs": [
    {
     "name": "stdout",
     "output_type": "stream",
     "text": [
      "Dependent (reject H0)\n"
     ]
    }
   ],
   "source": [
    "if(pvalue < alpha):\n",
    "    print('Dependent (reject H0)')\n",
    "else:\n",
    "    print('Independent (accept H0)')"
   ]
  },
  {
   "cell_type": "code",
   "execution_count": 9,
   "id": "9e30f38d-fd78-48b8-a9bc-c448832242d8",
   "metadata": {},
   "outputs": [],
   "source": [
    "chi_square,pvalue = chisquare([2,3,5,9,6])"
   ]
  },
  {
   "cell_type": "code",
   "execution_count": 10,
   "id": "4c68429a-8ace-4c25-8f24-d5a3d2bfa2d4",
   "metadata": {},
   "outputs": [
    {
     "data": {
      "text/plain": [
       "(6.000000000000001, 0.19914827347145564)"
      ]
     },
     "execution_count": 10,
     "metadata": {},
     "output_type": "execute_result"
    }
   ],
   "source": [
    "chi_square,pvalue"
   ]
  },
  {
   "cell_type": "code",
   "execution_count": 11,
   "id": "dde93300-24a0-4a0c-b78e-c39cc2e97056",
   "metadata": {},
   "outputs": [],
   "source": [
    "aplha = 0.05"
   ]
  },
  {
   "cell_type": "code",
   "execution_count": 13,
   "id": "417d031b-9f9d-4c6e-bd00-f2b5d1f18fc0",
   "metadata": {},
   "outputs": [
    {
     "name": "stdout",
     "output_type": "stream",
     "text": [
      "Independent (accept H0)\n"
     ]
    }
   ],
   "source": [
    "if (pvalue < alpha):\n",
    "    print('Dependent (reject H0)')\n",
    "else:\n",
    "    print('Independent (accept H0)')"
   ]
  },
  {
   "cell_type": "code",
   "execution_count": 14,
   "id": "f45ffe87-75d4-4fae-a7e1-f94db154139d",
   "metadata": {},
   "outputs": [],
   "source": [
    "from scipy.stats import chi2_contingency"
   ]
  },
  {
   "cell_type": "code",
   "execution_count": 15,
   "id": "fe04a780-a922-4e62-8102-5bbdc164aaff",
   "metadata": {},
   "outputs": [],
   "source": [
    "data = [[230,340,282],[234,242,232]]"
   ]
  },
  {
   "cell_type": "code",
   "execution_count": 16,
   "id": "f785601e-fc9e-4902-a1af-38c4141eef3a",
   "metadata": {},
   "outputs": [],
   "source": [
    "stat, pvalue, dof, exp_freq = chi2_contingency(data)"
   ]
  },
  {
   "cell_type": "code",
   "execution_count": 17,
   "id": "6532e112-c634-4b42-988a-711303bc7303",
   "metadata": {},
   "outputs": [
    {
     "data": {
      "text/plain": [
       "(8.177383623844797,\n",
       " 0.01676114595399237,\n",
       " 2,\n",
       " array([[253.41538462, 317.86153846, 280.72307692],\n",
       "        [210.58461538, 264.13846154, 233.27692308]]))"
      ]
     },
     "execution_count": 17,
     "metadata": {},
     "output_type": "execute_result"
    }
   ],
   "source": [
    "stat, pvalue, dof, exp_freq"
   ]
  },
  {
   "cell_type": "code",
   "execution_count": 18,
   "id": "09e55a51-80f9-49ea-8894-cdc5c0a5f9fc",
   "metadata": {},
   "outputs": [],
   "source": [
    "out_look_data = [[2,3],[4,0],[3,2]]"
   ]
  },
  {
   "cell_type": "code",
   "execution_count": 19,
   "id": "8744f1f8-63b5-4ebf-ab53-04d886106250",
   "metadata": {},
   "outputs": [
    {
     "data": {
      "text/plain": [
       "Chi2ContingencyResult(statistic=3.546666666666666, pvalue=0.16976615743981124, dof=2, expected_freq=array([[3.21428571, 1.78571429],\n",
       "       [2.57142857, 1.42857143],\n",
       "       [3.21428571, 1.78571429]]))"
      ]
     },
     "execution_count": 19,
     "metadata": {},
     "output_type": "execute_result"
    }
   ],
   "source": [
    "chi2_contingency(out_look_data)"
   ]
  },
  {
   "cell_type": "code",
   "execution_count": 20,
   "id": "1c74e2e7-da82-4705-9810-72bee3409ddc",
   "metadata": {},
   "outputs": [],
   "source": [
    "wind_data = [[3,3],[6,2]]"
   ]
  },
  {
   "cell_type": "code",
   "execution_count": 21,
   "id": "bb07b995-ee13-4bb2-bf59-86f738887fb6",
   "metadata": {},
   "outputs": [
    {
     "data": {
      "text/plain": [
       "Chi2ContingencyResult(statistic=0.16203703703703703, pvalue=0.687287949348002, dof=1, expected_freq=array([[3.85714286, 2.14285714],\n",
       "       [5.14285714, 2.85714286]]))"
      ]
     },
     "execution_count": 21,
     "metadata": {},
     "output_type": "execute_result"
    }
   ],
   "source": [
    "chi2_contingency(wind_data)"
   ]
  },
  {
   "cell_type": "code",
   "execution_count": 22,
   "id": "b65bce54-100b-40b8-9149-b01d4be55fd1",
   "metadata": {},
   "outputs": [],
   "source": [
    "obs = [3,3,6,2]\n",
    "exp = [3.85714286, 2.14285714, 5.14285714, 2.85714286]"
   ]
  },
  {
   "cell_type": "code",
   "execution_count": 23,
   "id": "ee2f4ffa-d46b-4b29-981a-9dc14a380a64",
   "metadata": {},
   "outputs": [
    {
     "data": {
      "text/plain": [
       "Power_divergenceResult(statistic=0.9333333396938274, pvalue=0.8173771570701455)"
      ]
     },
     "execution_count": 23,
     "metadata": {},
     "output_type": "execute_result"
    }
   ],
   "source": [
    "chisquare (obs, exp)"
   ]
  },
  {
   "cell_type": "code",
   "execution_count": null,
   "id": "a5390447-1f70-4493-bdab-03d2e9a6b78a",
   "metadata": {},
   "outputs": [],
   "source": []
  }
 ],
 "metadata": {
  "kernelspec": {
   "display_name": "Python 3 (ipykernel)",
   "language": "python",
   "name": "python3"
  },
  "language_info": {
   "codemirror_mode": {
    "name": "ipython",
    "version": 3
   },
   "file_extension": ".py",
   "mimetype": "text/x-python",
   "name": "python",
   "nbconvert_exporter": "python",
   "pygments_lexer": "ipython3",
   "version": "3.11.7"
  }
 },
 "nbformat": 4,
 "nbformat_minor": 5
}
