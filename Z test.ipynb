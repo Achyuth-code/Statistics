{
 "cells": [
  {
   "cell_type": "code",
   "execution_count": 6,
   "id": "93e3ed5e-ba43-49e3-b2ee-b116f591e115",
   "metadata": {},
   "outputs": [],
   "source": [
    "import math \n",
    "import numpy as np\n",
    "from numpy.random import randn\n",
    "import scipy"
   ]
  },
  {
   "cell_type": "code",
   "execution_count": 7,
   "id": "7b4b3e35-5bae-440c-ab66-c4d51dab75f9",
   "metadata": {},
   "outputs": [],
   "source": [
    "alpha = 0.05"
   ]
  },
  {
   "cell_type": "code",
   "execution_count": 8,
   "id": "9d8af3bc-2c77-4be1-bf16-9f2f0b2b590b",
   "metadata": {},
   "outputs": [],
   "source": [
    "def z_test(n, sample_mean,null_mean, sd,alternative):\n",
    "    z_score = (sample_mean-null_mean)/(sd/math.sqrt(n))\n",
    "    p_value = scipy.stats.norm.sf(z_score)\n",
    "    print(z_score)\n",
    "    print(p_value)\n",
    "    if(alternative == \"larger\" or alternative == \"smaller\"):\n",
    "        if(p_value <  alpha):\n",
    "            print(\"Reject Null Hypothesis\")\n",
    "        else:\n",
    "            print(\"Accept NUll Hypothesis\")\n",
    "    elif(alternative == \"two-sided\"):\n",
    "        if(p_value <  alpha/2):\n",
    "            print(\"Reject Null Hypothesis\")\n",
    "        else:\n",
    "            print(\"Accept NUll Hypothesis\")"
   ]
  },
  {
   "cell_type": "code",
   "execution_count": 9,
   "id": "4f1add17-4291-4a81-a7d6-e53c278f9a98",
   "metadata": {},
   "outputs": [
    {
     "name": "stdout",
     "output_type": "stream",
     "text": [
      "4.714045207910317\n",
      "1.2142337364879197e-06\n",
      "Reject Null Hypothesis\n"
     ]
    }
   ],
   "source": [
    "z_test(50,110,100,15,\"larger\")"
   ]
  },
  {
   "cell_type": "code",
   "execution_count": 10,
   "id": "8aa67b49-3aa7-49bc-8cc2-22ddd35d59ba",
   "metadata": {},
   "outputs": [],
   "source": [
    "mean_iq = 90\n",
    "sd_iq = 20/math.sqrt(81)\n",
    "data2 = sd_iq*randn(81)+mean_iq"
   ]
  },
  {
   "cell_type": "code",
   "execution_count": 12,
   "id": "1de6dedc-cef7-474b-b240-f2267bc857d2",
   "metadata": {},
   "outputs": [
    {
     "name": "stdout",
     "output_type": "stream",
     "text": [
      "3.5999999999999996\n",
      "0.00015910859015753396\n",
      "Reject Null Hypothesis\n"
     ]
    }
   ],
   "source": [
    "z_test(81,90,82,20,\"larger\")"
   ]
  },
  {
   "cell_type": "code",
   "execution_count": null,
   "id": "c425c199-62f3-4346-b86f-8e41b54f21c5",
   "metadata": {},
   "outputs": [],
   "source": []
  }
 ],
 "metadata": {
  "kernelspec": {
   "display_name": "Python 3 (ipykernel)",
   "language": "python",
   "name": "python3"
  },
  "language_info": {
   "codemirror_mode": {
    "name": "ipython",
    "version": 3
   },
   "file_extension": ".py",
   "mimetype": "text/x-python",
   "name": "python",
   "nbconvert_exporter": "python",
   "pygments_lexer": "ipython3",
   "version": "3.11.7"
  }
 },
 "nbformat": 4,
 "nbformat_minor": 5
}
