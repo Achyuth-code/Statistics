{
 "cells": [
  {
   "cell_type": "code",
   "execution_count": 2,
   "id": "404abbc8-e9b1-47de-8870-653cac9cc6fd",
   "metadata": {},
   "outputs": [],
   "source": [
    "import numpy as np\n",
    "from numpy.random import randn\n",
    "import scipy.stats as stats"
   ]
  },
  {
   "cell_type": "code",
   "execution_count": 4,
   "id": "082ced51-bad0-433a-843a-7db44316b5e4",
   "metadata": {},
   "outputs": [],
   "source": [
    "sample_mean = 140\n",
    "sample_std = 20\n",
    "data = sample_std*randn(30)+sample_mean"
   ]
  },
  {
   "cell_type": "code",
   "execution_count": 5,
   "id": "9e975708-af9b-4b09-a586-98a4a759c515",
   "metadata": {},
   "outputs": [],
   "source": [
    "alpha = 0.05"
   ]
  },
  {
   "cell_type": "code",
   "execution_count": 7,
   "id": "e4c5f4c1-79a6-4296-9a48-d2422ab58c65",
   "metadata": {},
   "outputs": [
    {
     "name": "stdout",
     "output_type": "stream",
     "text": [
      "mean=138.91 stdv=16.13\n"
     ]
    }
   ],
   "source": [
    "print('mean=%.2f stdv=%.2f' % (np.mean(data),np.std(data)))"
   ]
  },
  {
   "cell_type": "code",
   "execution_count": 9,
   "id": "f7bd6c23-038d-40c8-921d-68272612b5ac",
   "metadata": {},
   "outputs": [],
   "source": [
    "t_statistic,pvalue = stats.ttest_1samp(a=data,popmean=100)"
   ]
  },
  {
   "cell_type": "code",
   "execution_count": 10,
   "id": "0554472b-43f4-4483-b25b-ce95b5d7b9e5",
   "metadata": {},
   "outputs": [
    {
     "data": {
      "text/plain": [
       "(12.991975483144694, 1.2847316187014762e-13)"
      ]
     },
     "execution_count": 10,
     "metadata": {},
     "output_type": "execute_result"
    }
   ],
   "source": [
    "t_statistic,pvalue"
   ]
  },
  {
   "cell_type": "code",
   "execution_count": 12,
   "id": "b4993aef-3a0e-4759-9295-4f048ee31d1d",
   "metadata": {},
   "outputs": [
    {
     "name": "stdout",
     "output_type": "stream",
     "text": [
      "Reject Null Hypothesis\n"
     ]
    }
   ],
   "source": [
    "if (pvalue < alpha):\n",
    "    print(\"Reject Null Hypothesis\")\n",
    "else:\n",
    "    print(\"Accept Null Hypothesis\")"
   ]
  },
  {
   "cell_type": "code",
   "execution_count": 13,
   "id": "b17d86c1-91e3-49ea-8938-f8b6b7766669",
   "metadata": {},
   "outputs": [],
   "source": [
    "sample_mean = 24\n",
    "sample_std = 0.7\n",
    "data2 = sample_std*randn(20)+sample_mean"
   ]
  },
  {
   "cell_type": "code",
   "execution_count": 14,
   "id": "ea4d7706-d314-4845-b737-df798d7ca6be",
   "metadata": {},
   "outputs": [
    {
     "name": "stdout",
     "output_type": "stream",
     "text": [
      "mean=24.14 stdv=0.73\n"
     ]
    }
   ],
   "source": [
    "print('mean=%.2f stdv=%.2f' % (np.mean(data2), np.std(data2)))"
   ]
  },
  {
   "cell_type": "code",
   "execution_count": 15,
   "id": "f8916d9b-e0d0-4106-bf52-9bacc08b8c42",
   "metadata": {},
   "outputs": [],
   "source": [
    "t_statistic, pvalue = stats.ttest_1samp(a=data2, popmean = 25)"
   ]
  },
  {
   "cell_type": "code",
   "execution_count": 16,
   "id": "7592e3fd-cc41-4b45-9a6b-be82966c573e",
   "metadata": {},
   "outputs": [
    {
     "data": {
      "text/plain": [
       "(-5.182965105703768, 5.291846456567688e-05)"
      ]
     },
     "execution_count": 16,
     "metadata": {},
     "output_type": "execute_result"
    }
   ],
   "source": [
    "t_statistic, pvalue"
   ]
  },
  {
   "cell_type": "code",
   "execution_count": 18,
   "id": "6736e8b4-595c-4a7a-8b84-0235d899c6bd",
   "metadata": {},
   "outputs": [
    {
     "name": "stdout",
     "output_type": "stream",
     "text": [
      "Reject Null Hypothesis\n"
     ]
    }
   ],
   "source": [
    "if(pvalue <  alpha):\n",
    "  print(\"Reject Null Hypothesis\")\n",
    "else:\n",
    "  print(\"Accept Null Hypothesis\")"
   ]
  },
  {
   "cell_type": "code",
   "execution_count": null,
   "id": "c94d0fa5-f266-4bab-ae98-104023190859",
   "metadata": {},
   "outputs": [],
   "source": []
  }
 ],
 "metadata": {
  "kernelspec": {
   "display_name": "Python 3 (ipykernel)",
   "language": "python",
   "name": "python3"
  },
  "language_info": {
   "codemirror_mode": {
    "name": "ipython",
    "version": 3
   },
   "file_extension": ".py",
   "mimetype": "text/x-python",
   "name": "python",
   "nbconvert_exporter": "python",
   "pygments_lexer": "ipython3",
   "version": "3.11.7"
  }
 },
 "nbformat": 4,
 "nbformat_minor": 5
}
